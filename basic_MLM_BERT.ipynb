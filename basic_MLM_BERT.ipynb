{
 "cells": [
  {
   "cell_type": "code",
   "execution_count": 1,
   "id": "8e7c0a15",
   "metadata": {},
   "outputs": [
    {
     "name": "stdout",
     "output_type": "stream",
     "text": [
      "WARNING:tensorflow:From c:\\Users\\manik\\AppData\\Local\\Programs\\Python\\Python311\\Lib\\site-packages\\keras\\src\\losses.py:2976: The name tf.losses.sparse_softmax_cross_entropy is deprecated. Please use tf.compat.v1.losses.sparse_softmax_cross_entropy instead.\n",
      "\n"
     ]
    }
   ],
   "source": [
    "from transformers import BertTokenizer, BertForMaskedLM\n",
    "import torch"
   ]
  },
  {
   "cell_type": "code",
   "execution_count": 23,
   "id": "d7137766",
   "metadata": {},
   "outputs": [
    {
     "name": "stderr",
     "output_type": "stream",
     "text": [
      "Some weights of the model checkpoint at bert-base-uncased were not used when initializing BertForMaskedLM: ['bert.pooler.dense.bias', 'bert.pooler.dense.weight', 'cls.seq_relationship.bias', 'cls.seq_relationship.weight']\n",
      "- This IS expected if you are initializing BertForMaskedLM from the checkpoint of a model trained on another task or with another architecture (e.g. initializing a BertForSequenceClassification model from a BertForPreTraining model).\n",
      "- This IS NOT expected if you are initializing BertForMaskedLM from the checkpoint of a model that you expect to be exactly identical (initializing a BertForSequenceClassification model from a BertForSequenceClassification model).\n"
     ]
    }
   ],
   "source": [
    "tokenizer = BertTokenizer.from_pretrained('bert-base-uncased')\n",
    "model = BertForMaskedLM.from_pretrained('bert-base-uncased')\n",
    "\n",
    "text = (\"After Abraham lincoln won the November 1840 presendtial election on an \"\n",
    "        \"anti-slavery platform, an inital seven slave states declared their \"\n",
    "        \"secession from the country to form the Confederacy. War broke out in \"\n",
    "        \"April 1861 when secessionist forces attacked Fort Sumter in South \"\n",
    "        \"Carolina, just over a month after Lincoln's inauguration.\")"
   ]
  },
  {
   "cell_type": "code",
   "execution_count": 24,
   "id": "414917ed",
   "metadata": {},
   "outputs": [
    {
     "data": {
      "text/plain": [
       "dict_keys(['input_ids', 'token_type_ids', 'attention_mask'])"
      ]
     },
     "execution_count": 24,
     "metadata": {},
     "output_type": "execute_result"
    }
   ],
   "source": [
    "inputs = tokenizer(text,return_tensors='pt')\n",
    "inputs.keys()"
   ]
  },
  {
   "cell_type": "code",
   "execution_count": 25,
   "id": "10fe6c70",
   "metadata": {},
   "outputs": [
    {
     "data": {
      "text/plain": [
       "tensor([[  101,  2044,  8181,  5367,  2180,  1996,  2281,  8905,  3653,  5054,\n",
       "         11927,  4818,  2602,  2006,  2019,  3424,  1011,  8864,  4132,  1010,\n",
       "          2019,  1999, 18400,  2698,  6658,  2163,  4161,  2037, 22965,  2013,\n",
       "          1996,  2406,  2000,  2433,  1996, 18179,  1012,  2162,  3631,  2041,\n",
       "          1999,  2258,  6863,  2043, 22965,  2923,  2749,  4457,  3481,  7680,\n",
       "          3334,  1999,  2148,  3792,  1010,  2074,  2058,  1037,  3204,  2044,\n",
       "          5367,  1005,  1055, 17331,  1012,   102]])"
      ]
     },
     "execution_count": 25,
     "metadata": {},
     "output_type": "execute_result"
    }
   ],
   "source": [
    "inputs.input_ids"
   ]
  },
  {
   "cell_type": "code",
   "execution_count": 26,
   "id": "6f6190d7",
   "metadata": {},
   "outputs": [],
   "source": [
    "inputs['labels'] = inputs.input_ids.detach().clone()"
   ]
  },
  {
   "cell_type": "code",
   "execution_count": 27,
   "id": "3c25be52",
   "metadata": {},
   "outputs": [
    {
     "data": {
      "text/plain": [
       "{'input_ids': tensor([[  101,  2044,  8181,  5367,  2180,  1996,  2281,  8905,  3653,  5054,\n",
       "         11927,  4818,  2602,  2006,  2019,  3424,  1011,  8864,  4132,  1010,\n",
       "          2019,  1999, 18400,  2698,  6658,  2163,  4161,  2037, 22965,  2013,\n",
       "          1996,  2406,  2000,  2433,  1996, 18179,  1012,  2162,  3631,  2041,\n",
       "          1999,  2258,  6863,  2043, 22965,  2923,  2749,  4457,  3481,  7680,\n",
       "          3334,  1999,  2148,  3792,  1010,  2074,  2058,  1037,  3204,  2044,\n",
       "          5367,  1005,  1055, 17331,  1012,   102]]), 'token_type_ids': tensor([[0, 0, 0, 0, 0, 0, 0, 0, 0, 0, 0, 0, 0, 0, 0, 0, 0, 0, 0, 0, 0, 0, 0, 0,\n",
       "         0, 0, 0, 0, 0, 0, 0, 0, 0, 0, 0, 0, 0, 0, 0, 0, 0, 0, 0, 0, 0, 0, 0, 0,\n",
       "         0, 0, 0, 0, 0, 0, 0, 0, 0, 0, 0, 0, 0, 0, 0, 0, 0, 0]]), 'attention_mask': tensor([[1, 1, 1, 1, 1, 1, 1, 1, 1, 1, 1, 1, 1, 1, 1, 1, 1, 1, 1, 1, 1, 1, 1, 1,\n",
       "         1, 1, 1, 1, 1, 1, 1, 1, 1, 1, 1, 1, 1, 1, 1, 1, 1, 1, 1, 1, 1, 1, 1, 1,\n",
       "         1, 1, 1, 1, 1, 1, 1, 1, 1, 1, 1, 1, 1, 1, 1, 1, 1, 1]]), 'labels': tensor([[  101,  2044,  8181,  5367,  2180,  1996,  2281,  8905,  3653,  5054,\n",
       "         11927,  4818,  2602,  2006,  2019,  3424,  1011,  8864,  4132,  1010,\n",
       "          2019,  1999, 18400,  2698,  6658,  2163,  4161,  2037, 22965,  2013,\n",
       "          1996,  2406,  2000,  2433,  1996, 18179,  1012,  2162,  3631,  2041,\n",
       "          1999,  2258,  6863,  2043, 22965,  2923,  2749,  4457,  3481,  7680,\n",
       "          3334,  1999,  2148,  3792,  1010,  2074,  2058,  1037,  3204,  2044,\n",
       "          5367,  1005,  1055, 17331,  1012,   102]])}"
      ]
     },
     "execution_count": 27,
     "metadata": {},
     "output_type": "execute_result"
    }
   ],
   "source": [
    "inputs"
   ]
  },
  {
   "cell_type": "code",
   "execution_count": 28,
   "id": "cf87891d",
   "metadata": {},
   "outputs": [
    {
     "data": {
      "text/plain": [
       "torch.Size([1, 66])"
      ]
     },
     "execution_count": 28,
     "metadata": {},
     "output_type": "execute_result"
    }
   ],
   "source": [
    "rand = torch.rand(inputs.input_ids.shape)\n",
    "rand.shape"
   ]
  },
  {
   "cell_type": "code",
   "execution_count": 29,
   "id": "657ca21e",
   "metadata": {},
   "outputs": [
    {
     "data": {
      "text/plain": [
       "tensor([[0.9760, 0.5645, 0.0032, 0.4449, 0.8277, 0.5206, 0.8263, 0.4495, 0.0427,\n",
       "         0.6178, 0.3137, 0.1408, 0.2302, 0.5203, 0.6687, 0.1195, 0.1849, 0.3276,\n",
       "         0.4345, 0.6191, 0.9331, 0.1485, 0.4683, 0.9611, 0.4113, 0.8342, 0.1580,\n",
       "         0.9325, 0.8956, 0.1992, 0.0721, 0.5748, 0.9541, 0.9652, 0.7009, 0.8720,\n",
       "         0.1904, 0.2269, 0.4281, 0.1996, 0.6364, 0.2936, 0.8253, 0.5746, 0.8629,\n",
       "         0.1866, 0.0626, 0.9037, 0.7765, 0.6995, 0.8253, 0.8831, 0.7801, 0.8572,\n",
       "         0.5187, 0.8377, 0.5399, 0.1830, 0.3269, 0.1035, 0.5963, 0.2721, 0.2778,\n",
       "         0.7476, 0.7700, 0.1508]])"
      ]
     },
     "execution_count": 29,
     "metadata": {},
     "output_type": "execute_result"
    }
   ],
   "source": [
    "rand"
   ]
  },
  {
   "cell_type": "code",
   "execution_count": 31,
   "id": "4539d901",
   "metadata": {},
   "outputs": [
    {
     "data": {
      "text/plain": [
       "tensor([[False, False,  True, False, False, False, False, False,  True, False,\n",
       "         False,  True, False, False, False,  True, False, False, False, False,\n",
       "         False,  True, False, False, False, False, False, False, False, False,\n",
       "          True, False, False, False, False, False, False, False, False, False,\n",
       "         False, False, False, False, False, False,  True, False, False, False,\n",
       "         False, False, False, False, False, False, False, False, False,  True,\n",
       "         False, False, False, False, False, False]])"
      ]
     },
     "execution_count": 31,
     "metadata": {},
     "output_type": "execute_result"
    }
   ],
   "source": [
    "mask_arr = (rand < 0.15) * (inputs.input_ids != 101) * (inputs.input_ids != 102) \n",
    "mask_arr"
   ]
  },
  {
   "cell_type": "code",
   "execution_count": 36,
   "id": "ecd41d93",
   "metadata": {},
   "outputs": [
    {
     "data": {
      "text/plain": [
       "[2, 8, 11, 15, 21, 30, 46, 59]"
      ]
     },
     "execution_count": 36,
     "metadata": {},
     "output_type": "execute_result"
    }
   ],
   "source": [
    "selection = torch.flatten(mask_arr[0].nonzero()).tolist()\n",
    "selection"
   ]
  },
  {
   "cell_type": "code",
   "execution_count": 41,
   "id": "0192fce3",
   "metadata": {},
   "outputs": [
    {
     "data": {
      "text/plain": [
       "tensor(1996)"
      ]
     },
     "execution_count": 41,
     "metadata": {},
     "output_type": "execute_result"
    }
   ],
   "source": [
    "inputs.input_ids[0,5]"
   ]
  },
  {
   "cell_type": "code",
   "execution_count": 37,
   "id": "4431ecd8",
   "metadata": {},
   "outputs": [
    {
     "data": {
      "text/plain": [
       "tensor([[  101,  2044,   103,  5367,  2180,  1996,  2281,  8905,   103,  5054,\n",
       "         11927,   103,  2602,  2006,  2019,   103,  1011,  8864,  4132,  1010,\n",
       "          2019,   103, 18400,  2698,  6658,  2163,  4161,  2037, 22965,  2013,\n",
       "           103,  2406,  2000,  2433,  1996, 18179,  1012,  2162,  3631,  2041,\n",
       "          1999,  2258,  6863,  2043, 22965,  2923,   103,  4457,  3481,  7680,\n",
       "          3334,  1999,  2148,  3792,  1010,  2074,  2058,  1037,  3204,   103,\n",
       "          5367,  1005,  1055, 17331,  1012,   102]])"
      ]
     },
     "execution_count": 37,
     "metadata": {},
     "output_type": "execute_result"
    }
   ],
   "source": [
    "inputs.input_ids[0,selection] = 103\n",
    "inputs.input_ids"
   ]
  },
  {
   "cell_type": "code",
   "execution_count": 42,
   "id": "ab079a04",
   "metadata": {},
   "outputs": [],
   "source": [
    "outputs = model(**inputs)"
   ]
  },
  {
   "cell_type": "code",
   "execution_count": 43,
   "id": "4faa6a05",
   "metadata": {},
   "outputs": [
    {
     "data": {
      "text/plain": [
       "odict_keys(['loss', 'logits'])"
      ]
     },
     "execution_count": 43,
     "metadata": {},
     "output_type": "execute_result"
    }
   ],
   "source": [
    "outputs.keys()"
   ]
  },
  {
   "cell_type": "code",
   "execution_count": 44,
   "id": "c4edfba8",
   "metadata": {},
   "outputs": [
    {
     "data": {
      "text/plain": [
       "tensor(0.9248, grad_fn=<NllLossBackward0>)"
      ]
     },
     "execution_count": 44,
     "metadata": {},
     "output_type": "execute_result"
    }
   ],
   "source": [
    "outputs.loss"
   ]
  },
  {
   "cell_type": "code",
   "execution_count": null,
   "id": "a5d00ae0",
   "metadata": {},
   "outputs": [],
   "source": []
  }
 ],
 "metadata": {
  "kernelspec": {
   "display_name": "Python 3",
   "language": "python",
   "name": "python3"
  },
  "language_info": {
   "codemirror_mode": {
    "name": "ipython",
    "version": 3
   },
   "file_extension": ".py",
   "mimetype": "text/x-python",
   "name": "python",
   "nbconvert_exporter": "python",
   "pygments_lexer": "ipython3",
   "version": "3.11.4"
  }
 },
 "nbformat": 4,
 "nbformat_minor": 5
}
