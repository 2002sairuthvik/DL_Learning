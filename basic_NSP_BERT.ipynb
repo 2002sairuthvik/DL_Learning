{
 "cells": [
  {
   "cell_type": "code",
   "execution_count": 1,
   "id": "84433c9e",
   "metadata": {},
   "outputs": [
    {
     "name": "stdout",
     "output_type": "stream",
     "text": [
      "WARNING:tensorflow:From c:\\Users\\manik\\AppData\\Local\\Programs\\Python\\Python311\\Lib\\site-packages\\keras\\src\\losses.py:2976: The name tf.losses.sparse_softmax_cross_entropy is deprecated. Please use tf.compat.v1.losses.sparse_softmax_cross_entropy instead.\n",
      "\n"
     ]
    }
   ],
   "source": [
    "from transformers import BertTokenizer, BertForNextSentencePrediction\n",
    "import torch"
   ]
  },
  {
   "cell_type": "code",
   "execution_count": 2,
   "id": "0dc8381a",
   "metadata": {},
   "outputs": [],
   "source": [
    "text1 = (\"After Abraham lincoln won the November 1840 presendtial election on an \"\n",
    "        \"anti-slavery platform, an inital seven slave states declared their \"\n",
    "        \"secession from the country to form the Confederacy.\")\n",
    "text2 = (\"War broke out in April 1861 when secessionist forces attacked Fort \"\n",
    "         \"Sumter in South Carolina, just over a month after Lincoln's \" \n",
    "         \"inauguration.\")"
   ]
  },
  {
   "cell_type": "code",
   "execution_count": 6,
   "id": "864ca3a6",
   "metadata": {},
   "outputs": [],
   "source": [
    "tokenizer = BertTokenizer.from_pretrained('bert-base-uncased')\n",
    "model = BertForNextSentencePrediction.from_pretrained('bert-base-uncased')"
   ]
  },
  {
   "cell_type": "code",
   "execution_count": 7,
   "id": "8ae2fa68",
   "metadata": {},
   "outputs": [],
   "source": [
    "inputs = tokenizer(text1,text2,return_tensors='pt')"
   ]
  },
  {
   "cell_type": "code",
   "execution_count": 8,
   "id": "0bc014f7",
   "metadata": {},
   "outputs": [
    {
     "data": {
      "text/plain": [
       "dict_keys(['input_ids', 'token_type_ids', 'attention_mask'])"
      ]
     },
     "execution_count": 8,
     "metadata": {},
     "output_type": "execute_result"
    }
   ],
   "source": [
    "inputs.keys()"
   ]
  },
  {
   "cell_type": "code",
   "execution_count": 9,
   "id": "025696e8",
   "metadata": {},
   "outputs": [
    {
     "data": {
      "text/plain": [
       "{'input_ids': tensor([[  101,  2044,  8181,  5367,  2180,  1996,  2281,  8905,  3653,  5054,\n",
       "         11927,  4818,  2602,  2006,  2019,  3424,  1011,  8864,  4132,  1010,\n",
       "          2019,  1999, 18400,  2698,  6658,  2163,  4161,  2037, 22965,  2013,\n",
       "          1996,  2406,  2000,  2433,  1996, 18179,  1012,   102,  2162,  3631,\n",
       "          2041,  1999,  2258,  6863,  2043, 22965,  2923,  2749,  4457,  3481,\n",
       "          7680,  3334,  1999,  2148,  3792,  1010,  2074,  2058,  1037,  3204,\n",
       "          2044,  5367,  1005,  1055, 17331,  1012,   102]]), 'token_type_ids': tensor([[0, 0, 0, 0, 0, 0, 0, 0, 0, 0, 0, 0, 0, 0, 0, 0, 0, 0, 0, 0, 0, 0, 0, 0,\n",
       "         0, 0, 0, 0, 0, 0, 0, 0, 0, 0, 0, 0, 0, 0, 1, 1, 1, 1, 1, 1, 1, 1, 1, 1,\n",
       "         1, 1, 1, 1, 1, 1, 1, 1, 1, 1, 1, 1, 1, 1, 1, 1, 1, 1, 1]]), 'attention_mask': tensor([[1, 1, 1, 1, 1, 1, 1, 1, 1, 1, 1, 1, 1, 1, 1, 1, 1, 1, 1, 1, 1, 1, 1, 1,\n",
       "         1, 1, 1, 1, 1, 1, 1, 1, 1, 1, 1, 1, 1, 1, 1, 1, 1, 1, 1, 1, 1, 1, 1, 1,\n",
       "         1, 1, 1, 1, 1, 1, 1, 1, 1, 1, 1, 1, 1, 1, 1, 1, 1, 1, 1]])}"
      ]
     },
     "execution_count": 9,
     "metadata": {},
     "output_type": "execute_result"
    }
   ],
   "source": [
    "inputs"
   ]
  },
  {
   "cell_type": "code",
   "execution_count": 10,
   "id": "ee9fee29",
   "metadata": {},
   "outputs": [],
   "source": [
    "labels = torch.LongTensor([0])"
   ]
  },
  {
   "cell_type": "code",
   "execution_count": 11,
   "id": "9a1efc58",
   "metadata": {},
   "outputs": [
    {
     "data": {
      "text/plain": [
       "tensor([0])"
      ]
     },
     "execution_count": 11,
     "metadata": {},
     "output_type": "execute_result"
    }
   ],
   "source": [
    "labels"
   ]
  },
  {
   "cell_type": "code",
   "execution_count": 12,
   "id": "c509fd86",
   "metadata": {},
   "outputs": [],
   "source": [
    "outputs = model(**inputs,labels=labels)"
   ]
  },
  {
   "cell_type": "code",
   "execution_count": 13,
   "id": "a79c93e0",
   "metadata": {},
   "outputs": [
    {
     "data": {
      "text/plain": [
       "odict_keys(['loss', 'logits'])"
      ]
     },
     "execution_count": 13,
     "metadata": {},
     "output_type": "execute_result"
    }
   ],
   "source": [
    "outputs.keys()"
   ]
  },
  {
   "cell_type": "code",
   "execution_count": 21,
   "id": "98063be0",
   "metadata": {},
   "outputs": [
    {
     "data": {
      "text/plain": [
       "tensor([ 6.3828, -6.2583], grad_fn=<SelectBackward0>)"
      ]
     },
     "execution_count": 21,
     "metadata": {},
     "output_type": "execute_result"
    }
   ],
   "source": [
    "outputs.logits[0]"
   ]
  },
  {
   "cell_type": "code",
   "execution_count": 22,
   "id": "e631eabb",
   "metadata": {},
   "outputs": [
    {
     "data": {
      "text/plain": [
       "tensor(0)"
      ]
     },
     "execution_count": 22,
     "metadata": {},
     "output_type": "execute_result"
    }
   ],
   "source": [
    "torch.argmax(outputs.logits[0])"
   ]
  },
  {
   "cell_type": "code",
   "execution_count": null,
   "id": "14ff91f3",
   "metadata": {},
   "outputs": [],
   "source": []
  }
 ],
 "metadata": {
  "kernelspec": {
   "display_name": "Python 3",
   "language": "python",
   "name": "python3"
  },
  "language_info": {
   "codemirror_mode": {
    "name": "ipython",
    "version": 3
   },
   "file_extension": ".py",
   "mimetype": "text/x-python",
   "name": "python",
   "nbconvert_exporter": "python",
   "pygments_lexer": "ipython3",
   "version": "3.11.4"
  }
 },
 "nbformat": 4,
 "nbformat_minor": 5
}
